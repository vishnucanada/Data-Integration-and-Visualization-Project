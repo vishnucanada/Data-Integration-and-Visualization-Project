{
 "cells": [
  {
   "cell_type": "code",
   "execution_count": 1,
   "metadata": {},
   "outputs": [],
   "source": [
    "import pandas as pd\n",
    "import requests\n",
    "import yfinance as yf\n",
    "import json\n"
   ]
  },
  {
   "cell_type": "code",
   "execution_count": 2,
   "metadata": {},
   "outputs": [
    {
     "data": {
      "text/html": [
       "<div>\n",
       "<style scoped>\n",
       "    .dataframe tbody tr th:only-of-type {\n",
       "        vertical-align: middle;\n",
       "    }\n",
       "\n",
       "    .dataframe tbody tr th {\n",
       "        vertical-align: top;\n",
       "    }\n",
       "\n",
       "    .dataframe thead th {\n",
       "        text-align: right;\n",
       "    }\n",
       "</style>\n",
       "<table border=\"1\" class=\"dataframe\">\n",
       "  <thead>\n",
       "    <tr style=\"text-align: right;\">\n",
       "      <th></th>\n",
       "      <th>Exchange</th>\n",
       "      <th>Symbol</th>\n",
       "      <th>Shortname</th>\n",
       "      <th>Longname</th>\n",
       "      <th>Sector</th>\n",
       "      <th>Industry</th>\n",
       "      <th>Currentprice</th>\n",
       "      <th>Marketcap</th>\n",
       "      <th>Ebitda</th>\n",
       "      <th>Revenuegrowth</th>\n",
       "      <th>City</th>\n",
       "      <th>State</th>\n",
       "      <th>Country</th>\n",
       "      <th>Fulltimeemployees</th>\n",
       "      <th>Longbusinesssummary</th>\n",
       "      <th>Weight</th>\n",
       "    </tr>\n",
       "  </thead>\n",
       "  <tbody>\n",
       "    <tr>\n",
       "      <th>0</th>\n",
       "      <td>NMS</td>\n",
       "      <td>AAPL</td>\n",
       "      <td>Apple Inc.</td>\n",
       "      <td>Apple Inc.</td>\n",
       "      <td>Technology</td>\n",
       "      <td>Consumer Electronics</td>\n",
       "      <td>233.85</td>\n",
       "      <td>3555478994944</td>\n",
       "      <td>1.317810e+11</td>\n",
       "      <td>0.049</td>\n",
       "      <td>Cupertino</td>\n",
       "      <td>CA</td>\n",
       "      <td>United States</td>\n",
       "      <td>161000.0</td>\n",
       "      <td>Apple Inc. designs, manufactures, and markets ...</td>\n",
       "      <td>0.065624</td>\n",
       "    </tr>\n",
       "    <tr>\n",
       "      <th>1</th>\n",
       "      <td>NMS</td>\n",
       "      <td>NVDA</td>\n",
       "      <td>NVIDIA Corporation</td>\n",
       "      <td>NVIDIA Corporation</td>\n",
       "      <td>Technology</td>\n",
       "      <td>Semiconductors</td>\n",
       "      <td>131.60</td>\n",
       "      <td>3228148170752</td>\n",
       "      <td>6.118400e+10</td>\n",
       "      <td>1.224</td>\n",
       "      <td>Santa Clara</td>\n",
       "      <td>CA</td>\n",
       "      <td>United States</td>\n",
       "      <td>29600.0</td>\n",
       "      <td>NVIDIA Corporation provides graphics and compu...</td>\n",
       "      <td>0.059582</td>\n",
       "    </tr>\n",
       "    <tr>\n",
       "      <th>2</th>\n",
       "      <td>NMS</td>\n",
       "      <td>MSFT</td>\n",
       "      <td>Microsoft Corporation</td>\n",
       "      <td>Microsoft Corporation</td>\n",
       "      <td>Technology</td>\n",
       "      <td>Software - Infrastructure</td>\n",
       "      <td>418.74</td>\n",
       "      <td>3112510947328</td>\n",
       "      <td>1.294330e+11</td>\n",
       "      <td>0.152</td>\n",
       "      <td>Redmond</td>\n",
       "      <td>WA</td>\n",
       "      <td>United States</td>\n",
       "      <td>228000.0</td>\n",
       "      <td>Microsoft Corporation develops and supports so...</td>\n",
       "      <td>0.057448</td>\n",
       "    </tr>\n",
       "    <tr>\n",
       "      <th>3</th>\n",
       "      <td>NMS</td>\n",
       "      <td>GOOG</td>\n",
       "      <td>Alphabet Inc.</td>\n",
       "      <td>Alphabet Inc.</td>\n",
       "      <td>Communication Services</td>\n",
       "      <td>Internet Content &amp; Information</td>\n",
       "      <td>166.90</td>\n",
       "      <td>2045092429824</td>\n",
       "      <td>1.154780e+11</td>\n",
       "      <td>0.136</td>\n",
       "      <td>Mountain View</td>\n",
       "      <td>CA</td>\n",
       "      <td>United States</td>\n",
       "      <td>179582.0</td>\n",
       "      <td>Alphabet Inc. offers various products and plat...</td>\n",
       "      <td>0.037746</td>\n",
       "    </tr>\n",
       "    <tr>\n",
       "      <th>4</th>\n",
       "      <td>NMS</td>\n",
       "      <td>GOOGL</td>\n",
       "      <td>Alphabet Inc.</td>\n",
       "      <td>Alphabet Inc.</td>\n",
       "      <td>Communication Services</td>\n",
       "      <td>Internet Content &amp; Information</td>\n",
       "      <td>165.46</td>\n",
       "      <td>2044655435776</td>\n",
       "      <td>1.154780e+11</td>\n",
       "      <td>0.136</td>\n",
       "      <td>Mountain View</td>\n",
       "      <td>CA</td>\n",
       "      <td>United States</td>\n",
       "      <td>179582.0</td>\n",
       "      <td>Alphabet Inc. offers various products and plat...</td>\n",
       "      <td>0.037738</td>\n",
       "    </tr>\n",
       "  </tbody>\n",
       "</table>\n",
       "</div>"
      ],
      "text/plain": [
       "  Exchange Symbol              Shortname               Longname  \\\n",
       "0      NMS   AAPL             Apple Inc.             Apple Inc.   \n",
       "1      NMS   NVDA     NVIDIA Corporation     NVIDIA Corporation   \n",
       "2      NMS   MSFT  Microsoft Corporation  Microsoft Corporation   \n",
       "3      NMS   GOOG          Alphabet Inc.          Alphabet Inc.   \n",
       "4      NMS  GOOGL          Alphabet Inc.          Alphabet Inc.   \n",
       "\n",
       "                   Sector                        Industry  Currentprice  \\\n",
       "0              Technology            Consumer Electronics        233.85   \n",
       "1              Technology                  Semiconductors        131.60   \n",
       "2              Technology       Software - Infrastructure        418.74   \n",
       "3  Communication Services  Internet Content & Information        166.90   \n",
       "4  Communication Services  Internet Content & Information        165.46   \n",
       "\n",
       "       Marketcap        Ebitda  Revenuegrowth           City State  \\\n",
       "0  3555478994944  1.317810e+11          0.049      Cupertino    CA   \n",
       "1  3228148170752  6.118400e+10          1.224    Santa Clara    CA   \n",
       "2  3112510947328  1.294330e+11          0.152        Redmond    WA   \n",
       "3  2045092429824  1.154780e+11          0.136  Mountain View    CA   \n",
       "4  2044655435776  1.154780e+11          0.136  Mountain View    CA   \n",
       "\n",
       "         Country  Fulltimeemployees  \\\n",
       "0  United States           161000.0   \n",
       "1  United States            29600.0   \n",
       "2  United States           228000.0   \n",
       "3  United States           179582.0   \n",
       "4  United States           179582.0   \n",
       "\n",
       "                                 Longbusinesssummary    Weight  \n",
       "0  Apple Inc. designs, manufactures, and markets ...  0.065624  \n",
       "1  NVIDIA Corporation provides graphics and compu...  0.059582  \n",
       "2  Microsoft Corporation develops and supports so...  0.057448  \n",
       "3  Alphabet Inc. offers various products and plat...  0.037746  \n",
       "4  Alphabet Inc. offers various products and plat...  0.037738  "
      ]
     },
     "execution_count": 2,
     "metadata": {},
     "output_type": "execute_result"
    }
   ],
   "source": [
    "df_stock_description = pd.read_csv('/Users/vishnu/Desktop/Erasmus/Fall/Data Integration and Visualization/Data/kaggle_s&p/sp500_companies.csv').copy()\n",
    "df_stock_description.head()"
   ]
  },
  {
   "cell_type": "code",
   "execution_count": 3,
   "metadata": {},
   "outputs": [],
   "source": [
    "stock_symbols = list(df_stock_description['Symbol'].unique())\n",
    "stock_names = list(df_stock_description['Shortname'].unique())\n"
   ]
  },
  {
   "cell_type": "code",
   "execution_count": 11,
   "metadata": {},
   "outputs": [
    {
     "name": "stdout",
     "output_type": "stream",
     "text": [
      "['NVDA', 'MSFT', 'GOOG', 'GOOGL', 'AMZN', 'META', 'BRK-B', 'LLY', 'AVGO', 'TSLA', 'WMT', 'JPM', 'V', 'XOM', 'UNH', 'ORCL', 'MA', 'HD', 'PG', 'COST', 'JNJ', 'ABBV', 'BAC', 'KO', 'NFLX', 'MRK', 'CRM', 'CVX', 'AMD', 'TMUS', 'PEP', 'ACN', 'LIN', 'TMO', 'MCD', 'ADBE', 'CSCO', 'IBM', 'WFC', 'GE', 'ABT', 'AXP', 'DHR', 'QCOM', 'NOW', 'BX', 'CAT', 'PM', 'VZ', 'TXN', 'MS', 'UBER', 'AMGN', 'INTU', 'DIS', 'NEE', 'ISRG', 'PFE', 'RTX', 'SPGI', 'GS', 'CMCSA', 'LOW', 'AMAT', 'T', 'UNP', 'BLK', 'PGR', 'BKNG', 'LMT', 'HON', 'SYK', 'ETN', 'TJX', 'SCHW', 'BSX', 'KKR', 'VRTX', 'ANET', 'NKE', 'COP', 'PANW', 'C', 'ADP', 'CB', 'MU', 'MDT', 'UPS', 'PLD', 'ELV', 'ADI', 'REGN', 'FI', 'MMC', 'DE', 'SBUX', 'AMT', 'BMY', 'GILD']\n",
      "['NVIDIA Corporation', 'Microsoft Corporation', 'Alphabet Inc.', 'Amazon.com, Inc.', 'Meta Platforms, Inc.', 'Berkshire Hathaway Inc. New', 'Eli Lilly and Company', 'Broadcom Inc.', 'Tesla, Inc.', 'Walmart Inc.', 'JP Morgan Chase & Co.', 'Visa Inc.', 'Exxon Mobil Corporation', 'UnitedHealth Group Incorporated', 'Oracle Corporation', 'Mastercard Incorporated', 'Home Depot, Inc. (The)', 'Procter & Gamble Company (The)', 'Costco Wholesale Corporation', 'Johnson & Johnson', 'AbbVie Inc.', 'Bank of America Corporation', 'Coca-Cola Company (The)', 'Netflix, Inc.', 'Merck & Company, Inc.', 'Salesforce, Inc.', 'Chevron Corporation', 'Advanced Micro Devices, Inc.', 'T-Mobile US, Inc.', 'Pepsico, Inc.', 'Accenture plc', 'Linde plc', 'Thermo Fisher Scientific Inc', \"McDonald's Corporation\", 'Adobe Inc.', 'Cisco Systems, Inc.', 'International Business Machines', 'Wells Fargo & Company', 'GE Aerospace', 'Abbott Laboratories', 'American Express Company', 'Danaher Corporation', 'QUALCOMM Incorporated', 'ServiceNow, Inc.', 'Blackstone Inc.', 'Caterpillar, Inc.', 'Philip Morris International Inc', 'Verizon Communications Inc.', 'Texas Instruments Incorporated', 'Morgan Stanley', 'Uber Technologies, Inc.', 'Amgen Inc.', 'Intuit Inc.', 'Walt Disney Company (The)', 'NextEra Energy, Inc.', 'Intuitive Surgical, Inc.', 'Pfizer, Inc.', 'RTX Corporation', 'S&P Global Inc.', 'Goldman Sachs Group, Inc. (The)', 'Comcast Corporation', \"Lowe's Companies, Inc.\", 'Applied Materials, Inc.', 'AT&T Inc.', 'Union Pacific Corporation', 'BlackRock, Inc.', 'Progressive Corporation (The)', 'Booking Holdings Inc. Common St', 'Lockheed Martin Corporation', 'Honeywell International Inc.', 'Stryker Corporation', 'Eaton Corporation, PLC', 'TJX Companies, Inc. (The)', 'Charles Schwab Corporation (The', 'Boston Scientific Corporation', 'KKR & Co. Inc.', 'Vertex Pharmaceuticals Incorpor', 'Arista Networks, Inc.', 'Nike, Inc.', 'ConocoPhillips', 'Palo Alto Networks, Inc.', 'Citigroup, Inc.', 'Automatic Data Processing, Inc.', 'Chubb Limited', 'Micron Technology, Inc.', 'Medtronic plc.', 'United Parcel Service, Inc.', 'Prologis, Inc.', 'Elevance Health, Inc.', 'Analog Devices, Inc.', 'Regeneron Pharmaceuticals, Inc.', 'Fiserv, Inc.', 'Marsh & McLennan Companies, Inc', 'Deere & Company', 'Starbucks Corporation', 'American Tower Corporation (REI', 'Bristol-Myers Squibb Company', 'Gilead Sciences, Inc.', 'HCA Healthcare, Inc.']\n"
     ]
    }
   ],
   "source": [
    "\n",
    "stock_symbol = stock_symbols[1:100]\n",
    "stock_name = stock_names[1:100]\n",
    "\n",
    "print(stock_symbol)\n",
    "print(stock_name)"
   ]
  },
  {
   "cell_type": "code",
   "execution_count": 6,
   "metadata": {},
   "outputs": [],
   "source": [
    "#what you do is take the stock symbol and get its max history\n",
    "st = yf.Ticker(stock_symbol)\n",
    "his = st.history('max')\n",
    "\n",
    "#this returns a dataframe and at that it also makes the date the index, so we reset that\n",
    "df_reset = his.reset_index()\n",
    "\n",
    "df_reset = df_reset.rename(columns={'index': 'date'})\n",
    "df_reset['Date'] = df_reset['Date'].dt.strftime('%Y-%m-%d')\n"
   ]
  },
  {
   "cell_type": "code",
   "execution_count": 7,
   "metadata": {},
   "outputs": [
    {
     "data": {
      "text/html": [
       "<div>\n",
       "<style scoped>\n",
       "    .dataframe tbody tr th:only-of-type {\n",
       "        vertical-align: middle;\n",
       "    }\n",
       "\n",
       "    .dataframe tbody tr th {\n",
       "        vertical-align: top;\n",
       "    }\n",
       "\n",
       "    .dataframe thead th {\n",
       "        text-align: right;\n",
       "    }\n",
       "</style>\n",
       "<table border=\"1\" class=\"dataframe\">\n",
       "  <thead>\n",
       "    <tr style=\"text-align: right;\">\n",
       "      <th></th>\n",
       "      <th>Date</th>\n",
       "      <th>Open</th>\n",
       "      <th>High</th>\n",
       "      <th>Low</th>\n",
       "      <th>Close</th>\n",
       "      <th>Volume</th>\n",
       "      <th>Dividends</th>\n",
       "      <th>Stock Splits</th>\n",
       "    </tr>\n",
       "  </thead>\n",
       "  <tbody>\n",
       "    <tr>\n",
       "      <th>0</th>\n",
       "      <td>1999-01-22</td>\n",
       "      <td>0.040125</td>\n",
       "      <td>0.044783</td>\n",
       "      <td>0.035587</td>\n",
       "      <td>0.037618</td>\n",
       "      <td>2714688000</td>\n",
       "      <td>0.0</td>\n",
       "      <td>0.0</td>\n",
       "    </tr>\n",
       "    <tr>\n",
       "      <th>1</th>\n",
       "      <td>1999-01-25</td>\n",
       "      <td>0.040603</td>\n",
       "      <td>0.042036</td>\n",
       "      <td>0.037618</td>\n",
       "      <td>0.041559</td>\n",
       "      <td>510480000</td>\n",
       "      <td>0.0</td>\n",
       "      <td>0.0</td>\n",
       "    </tr>\n",
       "    <tr>\n",
       "      <th>2</th>\n",
       "      <td>1999-01-26</td>\n",
       "      <td>0.042036</td>\n",
       "      <td>0.042872</td>\n",
       "      <td>0.037737</td>\n",
       "      <td>0.038334</td>\n",
       "      <td>343200000</td>\n",
       "      <td>0.0</td>\n",
       "      <td>0.0</td>\n",
       "    </tr>\n",
       "    <tr>\n",
       "      <th>3</th>\n",
       "      <td>1999-01-27</td>\n",
       "      <td>0.038453</td>\n",
       "      <td>0.039409</td>\n",
       "      <td>0.036303</td>\n",
       "      <td>0.038215</td>\n",
       "      <td>244368000</td>\n",
       "      <td>0.0</td>\n",
       "      <td>0.0</td>\n",
       "    </tr>\n",
       "    <tr>\n",
       "      <th>4</th>\n",
       "      <td>1999-01-28</td>\n",
       "      <td>0.038215</td>\n",
       "      <td>0.038453</td>\n",
       "      <td>0.037856</td>\n",
       "      <td>0.038095</td>\n",
       "      <td>227520000</td>\n",
       "      <td>0.0</td>\n",
       "      <td>0.0</td>\n",
       "    </tr>\n",
       "  </tbody>\n",
       "</table>\n",
       "</div>"
      ],
      "text/plain": [
       "         Date      Open      High       Low     Close      Volume  Dividends  \\\n",
       "0  1999-01-22  0.040125  0.044783  0.035587  0.037618  2714688000        0.0   \n",
       "1  1999-01-25  0.040603  0.042036  0.037618  0.041559   510480000        0.0   \n",
       "2  1999-01-26  0.042036  0.042872  0.037737  0.038334   343200000        0.0   \n",
       "3  1999-01-27  0.038453  0.039409  0.036303  0.038215   244368000        0.0   \n",
       "4  1999-01-28  0.038215  0.038453  0.037856  0.038095   227520000        0.0   \n",
       "\n",
       "   Stock Splits  \n",
       "0           0.0  \n",
       "1           0.0  \n",
       "2           0.0  \n",
       "3           0.0  \n",
       "4           0.0  "
      ]
     },
     "execution_count": 7,
     "metadata": {},
     "output_type": "execute_result"
    }
   ],
   "source": [
    "df_reset.head()"
   ]
  },
  {
   "cell_type": "code",
   "execution_count": 8,
   "metadata": {},
   "outputs": [
    {
     "data": {
      "text/plain": [
       "'1999-06-16'"
      ]
     },
     "execution_count": 8,
     "metadata": {},
     "output_type": "execute_result"
    }
   ],
   "source": [
    "date = df_reset['Date'][100]\n",
    "dat =str(date).split(' ')[0]\n",
    "dat"
   ]
  },
  {
   "cell_type": "code",
   "execution_count": 9,
   "metadata": {},
   "outputs": [
    {
     "data": {
      "text/plain": [
       "False"
      ]
     },
     "execution_count": 9,
     "metadata": {},
     "output_type": "execute_result"
    }
   ],
   "source": [
    "list = []\n",
    "dates = df_reset['Date'][1]\n",
    "for date in dates:\n",
    "\n",
    "       url = (f'https://newsapi.org/v2/everything?'\n",
    "              'q={stock_name}&'\n",
    "              'from={dat}&'\n",
    "              'sortBy=popularity&'\n",
    "              'apiKey=89d5369bc04e40f3b87642a6eca38c4c')\n",
    "       response = requests.get(url)\n",
    "       list.append(response.text)\n",
    "list.count(None) == len(list)"
   ]
  },
  {
   "cell_type": "code",
   "execution_count": 10,
   "metadata": {},
   "outputs": [
    {
     "data": {
      "text/plain": [
       "['{\"status\":\"ok\",\"totalResults\":0,\"articles\":[]}',\n",
       " '{\"status\":\"ok\",\"totalResults\":0,\"articles\":[]}',\n",
       " '{\"status\":\"ok\",\"totalResults\":0,\"articles\":[]}',\n",
       " '{\"status\":\"ok\",\"totalResults\":0,\"articles\":[]}',\n",
       " '{\"status\":\"ok\",\"totalResults\":0,\"articles\":[]}',\n",
       " '{\"status\":\"ok\",\"totalResults\":0,\"articles\":[]}',\n",
       " '{\"status\":\"ok\",\"totalResults\":0,\"articles\":[]}',\n",
       " '{\"status\":\"ok\",\"totalResults\":0,\"articles\":[]}',\n",
       " '{\"status\":\"ok\",\"totalResults\":0,\"articles\":[]}',\n",
       " '{\"status\":\"ok\",\"totalResults\":0,\"articles\":[]}']"
      ]
     },
     "execution_count": 10,
     "metadata": {},
     "output_type": "execute_result"
    }
   ],
   "source": [
    "list"
   ]
  },
  {
   "cell_type": "code",
   "execution_count": null,
   "metadata": {},
   "outputs": [],
   "source": [
    "response_string = response.text\n",
    "\n",
    "# Parse the string into a dictionary\n",
    "response_dict = json.loads(response_string)\n",
    "\n",
    "# Now you can access the 'articles' key\n",
    "articles = response_dict['articles']"
   ]
  },
  {
   "cell_type": "code",
   "execution_count": null,
   "metadata": {},
   "outputs": [],
   "source": []
  }
 ],
 "metadata": {
  "kernelspec": {
   "display_name": "Python 3",
   "language": "python",
   "name": "python3"
  },
  "language_info": {
   "codemirror_mode": {
    "name": "ipython",
    "version": 3
   },
   "file_extension": ".py",
   "mimetype": "text/x-python",
   "name": "python",
   "nbconvert_exporter": "python",
   "pygments_lexer": "ipython3",
   "version": "3.12.5"
  }
 },
 "nbformat": 4,
 "nbformat_minor": 2
}
