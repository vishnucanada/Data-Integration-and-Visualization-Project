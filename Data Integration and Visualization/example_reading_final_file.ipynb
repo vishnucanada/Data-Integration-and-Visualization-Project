{
 "cells": [
  {
   "cell_type": "code",
   "execution_count": 15,
   "metadata": {},
   "outputs": [],
   "source": [
    "import pandas as pd"
   ]
  },
  {
   "cell_type": "code",
   "execution_count": 16,
   "metadata": {},
   "outputs": [
    {
     "data": {
      "text/html": [
       "<div>\n",
       "<style scoped>\n",
       "    .dataframe tbody tr th:only-of-type {\n",
       "        vertical-align: middle;\n",
       "    }\n",
       "\n",
       "    .dataframe tbody tr th {\n",
       "        vertical-align: top;\n",
       "    }\n",
       "\n",
       "    .dataframe thead th {\n",
       "        text-align: right;\n",
       "    }\n",
       "</style>\n",
       "<table border=\"1\" class=\"dataframe\">\n",
       "  <thead>\n",
       "    <tr style=\"text-align: right;\">\n",
       "      <th></th>\n",
       "      <th>Date</th>\n",
       "      <th>Stock</th>\n",
       "      <th>Open Price</th>\n",
       "      <th>Articles</th>\n",
       "    </tr>\n",
       "  </thead>\n",
       "  <tbody>\n",
       "    <tr>\n",
       "      <th>0</th>\n",
       "      <td>2024-10-10</td>\n",
       "      <td>AAPL</td>\n",
       "      <td>227.779999</td>\n",
       "      <td>Headline: Jim Cramer Says Apple (AAPL) Stock W...</td>\n",
       "    </tr>\n",
       "    <tr>\n",
       "      <th>1</th>\n",
       "      <td>2024-10-11</td>\n",
       "      <td>AAPL</td>\n",
       "      <td>229.300003</td>\n",
       "      <td>Headline: Will Nvidia Be the First Stock to Re...</td>\n",
       "    </tr>\n",
       "    <tr>\n",
       "      <th>2</th>\n",
       "      <td>2024-10-14</td>\n",
       "      <td>AAPL</td>\n",
       "      <td>228.699997</td>\n",
       "      <td>Headline: Jim Cramer Says Apple (AAPL) Stock W...</td>\n",
       "    </tr>\n",
       "    <tr>\n",
       "      <th>3</th>\n",
       "      <td>2024-10-15</td>\n",
       "      <td>AAPL</td>\n",
       "      <td>233.610001</td>\n",
       "      <td>Headline: 10 Information Technology Stocks Wit...</td>\n",
       "    </tr>\n",
       "    <tr>\n",
       "      <th>4</th>\n",
       "      <td>2024-10-16</td>\n",
       "      <td>AAPL</td>\n",
       "      <td>231.600006</td>\n",
       "      <td>Headline: Jim Cramer Says Apple (AAPL) Stock W...</td>\n",
       "    </tr>\n",
       "    <tr>\n",
       "      <th>...</th>\n",
       "      <td>...</td>\n",
       "      <td>...</td>\n",
       "      <td>...</td>\n",
       "      <td>...</td>\n",
       "    </tr>\n",
       "    <tr>\n",
       "      <th>95</th>\n",
       "      <td>2024-10-21</td>\n",
       "      <td>WMT</td>\n",
       "      <td>NaN</td>\n",
       "      <td>Headline: Walmart (WMT) Up 10% in 3 Months: Om...</td>\n",
       "    </tr>\n",
       "    <tr>\n",
       "      <th>96</th>\n",
       "      <td>2024-10-10</td>\n",
       "      <td>JPM</td>\n",
       "      <td>214.809998</td>\n",
       "      <td>Headline: JPMorgan Chase (JPM): Leading Low-Co...</td>\n",
       "    </tr>\n",
       "    <tr>\n",
       "      <th>97</th>\n",
       "      <td>2024-10-11</td>\n",
       "      <td>JPM</td>\n",
       "      <td>215.669998</td>\n",
       "      <td>Headline: JPMorgan Chase (JPM): Leading Low-Co...</td>\n",
       "    </tr>\n",
       "    <tr>\n",
       "      <th>98</th>\n",
       "      <td>2024-10-14</td>\n",
       "      <td>JPM</td>\n",
       "      <td>223.199997</td>\n",
       "      <td>Headline: JPMorgan Chase (JPM): Leading Low-Co...</td>\n",
       "    </tr>\n",
       "    <tr>\n",
       "      <th>99</th>\n",
       "      <td>2024-10-15</td>\n",
       "      <td>JPM</td>\n",
       "      <td>223.660004</td>\n",
       "      <td>Headline: JPMorgan Chase (JPM): Leading Low-Co...</td>\n",
       "    </tr>\n",
       "  </tbody>\n",
       "</table>\n",
       "<p>100 rows × 4 columns</p>\n",
       "</div>"
      ],
      "text/plain": [
       "          Date Stock  Open Price  \\\n",
       "0   2024-10-10  AAPL  227.779999   \n",
       "1   2024-10-11  AAPL  229.300003   \n",
       "2   2024-10-14  AAPL  228.699997   \n",
       "3   2024-10-15  AAPL  233.610001   \n",
       "4   2024-10-16  AAPL  231.600006   \n",
       "..         ...   ...         ...   \n",
       "95  2024-10-21   WMT         NaN   \n",
       "96  2024-10-10   JPM  214.809998   \n",
       "97  2024-10-11   JPM  215.669998   \n",
       "98  2024-10-14   JPM  223.199997   \n",
       "99  2024-10-15   JPM  223.660004   \n",
       "\n",
       "                                             Articles  \n",
       "0   Headline: Jim Cramer Says Apple (AAPL) Stock W...  \n",
       "1   Headline: Will Nvidia Be the First Stock to Re...  \n",
       "2   Headline: Jim Cramer Says Apple (AAPL) Stock W...  \n",
       "3   Headline: 10 Information Technology Stocks Wit...  \n",
       "4   Headline: Jim Cramer Says Apple (AAPL) Stock W...  \n",
       "..                                                ...  \n",
       "95  Headline: Walmart (WMT) Up 10% in 3 Months: Om...  \n",
       "96  Headline: JPMorgan Chase (JPM): Leading Low-Co...  \n",
       "97  Headline: JPMorgan Chase (JPM): Leading Low-Co...  \n",
       "98  Headline: JPMorgan Chase (JPM): Leading Low-Co...  \n",
       "99  Headline: JPMorgan Chase (JPM): Leading Low-Co...  \n",
       "\n",
       "[100 rows x 4 columns]"
      ]
     },
     "execution_count": 16,
     "metadata": {},
     "output_type": "execute_result"
    }
   ],
   "source": [
    "df = pd.read_csv('final_results.csv')\n",
    "df.head(100)"
   ]
  },
  {
   "cell_type": "code",
   "execution_count": 8,
   "metadata": {},
   "outputs": [
    {
     "data": {
      "text/plain": [
       "0    Headline: Nvidia (NVDA) International Revenue ...\n",
       "1    Headline: NVIDIA (NVDA) Q1 Earnings Top Estima...\n",
       "2    Headline: Microsoft Corp: An Exploration into ...\n",
       "3    Headline: RPC and Thor Industries have been hi...\n",
       "4    Headline: Tom Gayner's Strategic Moves in Q2 2...\n",
       "5    Headline: Tom Gayner's Strategic Moves in Q1 2...\n",
       "6    Headline: MWC 2024 live: all the news and phon...\n",
       "7    Headline: Google Doodle jumps into solar eclip...\n",
       "8    Headline: Amazon (AMZN) Up 1.7% Since Last Ear...\n",
       "9    Headline: Tom Gayner's Strategic Moves in Q1 2...\n",
       "Name: Articles, dtype: object"
      ]
     },
     "execution_count": 8,
     "metadata": {},
     "output_type": "execute_result"
    }
   ],
   "source": [
    "df['Articles']"
   ]
  },
  {
   "cell_type": "code",
   "execution_count": null,
   "metadata": {},
   "outputs": [],
   "source": []
  }
 ],
 "metadata": {
  "kernelspec": {
   "display_name": "Python 3",
   "language": "python",
   "name": "python3"
  },
  "language_info": {
   "codemirror_mode": {
    "name": "ipython",
    "version": 3
   },
   "file_extension": ".py",
   "mimetype": "text/x-python",
   "name": "python",
   "nbconvert_exporter": "python",
   "pygments_lexer": "ipython3",
   "version": "3.12.5"
  }
 },
 "nbformat": 4,
 "nbformat_minor": 2
}
